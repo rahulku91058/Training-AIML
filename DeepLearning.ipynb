{
  "nbformat": 4,
  "nbformat_minor": 0,
  "metadata": {
    "colab": {
      "provenance": [],
      "authorship_tag": "ABX9TyMjvQ4ENLSpwq0MOWDlNrzm",
      "include_colab_link": true
    },
    "kernelspec": {
      "name": "python3",
      "display_name": "Python 3"
    },
    "language_info": {
      "name": "python"
    }
  },
  "cells": [
    {
      "cell_type": "markdown",
      "metadata": {
        "id": "view-in-github",
        "colab_type": "text"
      },
      "source": [
        "<a href=\"https://colab.research.google.com/github/rahulku91058/Training-AIML/blob/main/DeepLearning.ipynb\" target=\"_parent\"><img src=\"https://colab.research.google.com/assets/colab-badge.svg\" alt=\"Open In Colab\"/></a>"
      ]
    },
    {
      "cell_type": "markdown",
      "source": [
        "# **Import important libraries**"
      ],
      "metadata": {
        "id": "zMYqGeo-jILW"
      }
    },
    {
      "cell_type": "code",
      "source": [
        "!git clone https://github.com/rahulku91058/Training-AIML.git\n",
        "%cd Training-AIML"
      ],
      "metadata": {
        "id": "lYqW5_tKj1X5",
        "outputId": "4f7eeeba-7a5e-4776-8c7d-af6f073ab379",
        "colab": {
          "base_uri": "https://localhost:8080/"
        }
      },
      "execution_count": 1,
      "outputs": [
        {
          "output_type": "stream",
          "name": "stdout",
          "text": [
            "Cloning into 'Training-AIML'...\n",
            "remote: Enumerating objects: 122, done.\u001b[K\n",
            "remote: Counting objects: 100% (122/122), done.\u001b[K\n",
            "remote: Compressing objects: 100% (106/106), done.\u001b[K\n",
            "remote: Total 122 (delta 42), reused 73 (delta 14), pack-reused 0 (from 0)\u001b[K\n",
            "Receiving objects: 100% (122/122), 40.27 MiB | 14.43 MiB/s, done.\n",
            "Resolving deltas: 100% (42/42), done.\n",
            "Updating files: 100% (39/39), done.\n",
            "/content/Training-AIML\n"
          ]
        }
      ]
    },
    {
      "cell_type": "code",
      "execution_count": 6,
      "metadata": {
        "id": "4XWGH3CtitTa"
      },
      "outputs": [],
      "source": [
        "import tensorflow as tf\n",
        "from tensorflow.keras import Sequential\n",
        "from tensorflow.keras.layers import Dense, Flatten, Input\n",
        "from tensorflow.keras.datasets import mnist\n",
        "import matplotlib.pyplot as plt\n"
      ]
    },
    {
      "cell_type": "code",
      "source": [
        "(x_train, y_train), (x_test, y_test) = mnist.load_data()\n",
        "x_train, x_test = x_train/255.0, x_test/255.0"
      ],
      "metadata": {
        "id": "ORlzFHIUj-7p"
      },
      "execution_count": 8,
      "outputs": []
    },
    {
      "cell_type": "markdown",
      "source": [
        "# **Visualize a sample**"
      ],
      "metadata": {
        "id": "W0hWZfNHoL5w"
      }
    },
    {
      "cell_type": "code",
      "source": [
        "plt.imshow(x_test[50], cmap='gray')\n",
        "plt.title(f\"Label: {y_train[25]}\")\n",
        "plt.show()"
      ],
      "metadata": {
        "id": "tz0E4RjTnj0V",
        "outputId": "5f4637fb-d1bb-4ee5-c1fc-736503d61b95",
        "colab": {
          "base_uri": "https://localhost:8080/",
          "height": 452
        }
      },
      "execution_count": 16,
      "outputs": [
        {
          "output_type": "display_data",
          "data": {
            "text/plain": [
              "<Figure size 640x480 with 1 Axes>"
            ],
            "image/png": "[encoded data removed]"
          },
          "metadata": {}
        }
      ]
    },
    {
      "cell_type": "markdown",
      "source": [
        "# **Build the model**"
      ],
      "metadata": {
        "id": "6lK9scMfpDJa"
      }
    },
    {
      "cell_type": "code",
      "source": [
        "model = Sequential([\n",
        "    Input(shape=(28,28)),\n",
        "    Flatten(),\n",
        "    Dense(128, activation='relu'),\n",
        "    Dense(10, activation='softmax')\n",
        "])\n"
      ],
      "metadata": {
        "id": "k-m2a8SuoHEU"
      },
      "execution_count": 18,
      "outputs": []
    },
    {
      "cell_type": "code",
      "source": [],
      "metadata": {
        "id": "BKgjgeRgpAiz"
      },
      "execution_count": null,
      "outputs": []
    }
  ]
}