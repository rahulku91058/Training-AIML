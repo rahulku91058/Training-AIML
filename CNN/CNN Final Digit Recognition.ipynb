{
 "cells": [
  {
   "cell_type": "code",
   "execution_count": 10,
   "id": "2514f413",
   "metadata": {},
   "outputs": [
    {
     "name": "stdout",
     "output_type": "stream",
     "text": [
      "<bound method Model.summary of <keras.src.engine.sequential.Sequential object at 0x0000021185A11290>>\n",
      "Epoch 1/10\n",
      "375/375 - 10s - loss: 0.3582 - accuracy: 0.8896 - val_loss: 0.0839 - val_accuracy: 0.9746 - 10s/epoch - 25ms/step\n",
      "Epoch 2/10\n",
      "375/375 - 6s - loss: 0.1146 - accuracy: 0.9653 - val_loss: 0.0548 - val_accuracy: 0.9837 - 6s/epoch - 17ms/step\n",
      "Epoch 3/10\n",
      "375/375 - 9s - loss: 0.0807 - accuracy: 0.9758 - val_loss: 0.0455 - val_accuracy: 0.9875 - 9s/epoch - 24ms/step\n",
      "Epoch 4/10\n",
      "375/375 - 9s - loss: 0.0662 - accuracy: 0.9793 - val_loss: 0.0403 - val_accuracy: 0.9882 - 9s/epoch - 24ms/step\n",
      "Epoch 5/10\n",
      "375/375 - 6s - loss: 0.0560 - accuracy: 0.9831 - val_loss: 0.0405 - val_accuracy: 0.9888 - 6s/epoch - 17ms/step\n",
      "Epoch 6/10\n",
      "375/375 - 6s - loss: 0.0500 - accuracy: 0.9847 - val_loss: 0.0411 - val_accuracy: 0.9879 - 6s/epoch - 16ms/step\n",
      "Epoch 7/10\n",
      "375/375 - 6s - loss: 0.0429 - accuracy: 0.9863 - val_loss: 0.0388 - val_accuracy: 0.9893 - 6s/epoch - 15ms/step\n",
      "Epoch 8/10\n",
      "375/375 - 6s - loss: 0.0378 - accuracy: 0.9884 - val_loss: 0.0364 - val_accuracy: 0.9902 - 6s/epoch - 15ms/step\n",
      "Epoch 9/10\n",
      "375/375 - 6s - loss: 0.0367 - accuracy: 0.9887 - val_loss: 0.0396 - val_accuracy: 0.9890 - 6s/epoch - 15ms/step\n",
      "Epoch 10/10\n",
      "375/375 - 6s - loss: 0.0328 - accuracy: 0.9896 - val_loss: 0.0347 - val_accuracy: 0.9903 - 6s/epoch - 16ms/step\n",
      "Test Accuracy: 0.99\n"
     ]
    }
   ],
   "source": [
    "import tensorflow as tf\n",
    "import numpy as np\n",
    "from tensorflow.keras.models import Sequential\n",
    "from tensorflow.keras.layers import Conv2D, MaxPooling2D, Flatten, Dense, Dropout\n",
    "from tensorflow.keras.datasets import mnist\n",
    "from tensorflow.keras.utils import to_categorical\n",
    "\n",
    "# Load MNIST dataset\n",
    "(x_train, y_train), (x_test, y_test) = mnist.load_data()\n",
    "\n",
    "# Preprocess data\n",
    "x_train = x_train.reshape(x_train.shape[0], 28, 28, 1).astype('float32') / 255.0\n",
    "x_test = x_test.reshape(x_test.shape[0], 28, 28, 1).astype('float32') / 255.0\n",
    "y_train = to_categorical(y_train, 10)\n",
    "y_test = to_categorical(y_test, 10)\n",
    "\n",
    "# Build the CNN model\n",
    "model = Sequential([\n",
    "    Conv2D(32, kernel_size=(3, 3), activation='relu', input_shape=(28, 28, 1)),\n",
    "    MaxPooling2D(pool_size=(2, 2)),\n",
    "    Conv2D(64, kernel_size=(3, 3), activation='relu'),\n",
    "    MaxPooling2D(pool_size=(2, 2)),\n",
    "    Flatten(),\n",
    "    Dense(128, activation='relu'),\n",
    "    Dropout(0.5),\n",
    "    Dense(10, activation='softmax')\n",
    "])\n",
    "\n",
    "\n",
    "# Compile the model\n",
    "model.compile(optimizer='adam', \n",
    "              loss='categorical_crossentropy', \n",
    "              metrics=['accuracy'])\n",
    "\n",
    "#model summary\n",
    "print(model.summary)\n",
    "\n",
    "# Train the model\n",
    "model.fit(x_train, y_train, batch_size=128, epochs=10, validation_split=0.2, verbose=2)\n",
    "\n",
    "# Evaluate the model\n",
    "test_loss, test_acc = model.evaluate(x_test, y_test, verbose=0)\n",
    "print(f\"Test Accuracy: {test_acc:.2f}\")\n",
    "\n",
    "# Save the model\n",
    "model.save('mnist_cnn_model.h5')\n"
   ]
  },
  {
   "cell_type": "code",
   "execution_count": 11,
   "id": "d79a7706",
   "metadata": {},
   "outputs": [
    {
     "name": "stdout",
     "output_type": "stream",
     "text": [
      "313/313 [==============================] - 2s 6ms/step - loss: 0.0246 - accuracy: 0.9911\n"
     ]
    },
    {
     "data": {
      "text/plain": [
       "[0.024632196873426437, 0.991100013256073]"
      ]
     },
     "execution_count": 11,
     "metadata": {},
     "output_type": "execute_result"
    }
   ],
   "source": [
    "model.evaluate(x_test,y_test)"
   ]
  },
  {
   "cell_type": "code",
   "execution_count": 12,
   "id": "1cf92240",
   "metadata": {},
   "outputs": [
    {
     "name": "stdout",
     "output_type": "stream",
     "text": [
      "313/313 [==============================] - 2s 5ms/step\n",
      "7\n"
     ]
    }
   ],
   "source": [
    "y_predicted=model.predict(x_test)\n",
    "print(np.argmax(y_predicted[0]))"
   ]
  },
  {
   "cell_type": "code",
   "execution_count": null,
   "id": "5414c6cf",
   "metadata": {},
   "outputs": [],
   "source": []
  },
  {
   "cell_type": "code",
   "execution_count": null,
   "id": "38be556a",
   "metadata": {},
   "outputs": [],
   "source": []
  }
 ],
 "metadata": {
  "kernelspec": {
   "display_name": "Python 3 (ipykernel)",
   "language": "python",
   "name": "python3"
  },
  "language_info": {
   "codemirror_mode": {
    "name": "ipython",
    "version": 3
   },
   "file_extension": ".py",
   "mimetype": "text/x-python",
   "name": "python",
   "nbconvert_exporter": "python",
   "pygments_lexer": "ipython3",
   "version": "3.11.4"
  }
 },
 "nbformat": 4,
 "nbformat_minor": 5
}
