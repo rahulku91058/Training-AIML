{
  "nbformat": 4,
  "nbformat_minor": 0,
  "metadata": {
    "colab": {
      "provenance": [],
      "authorship_tag": "ABX9TyNzEJXG1EFXvEJXj1CjXXPG",
      "include_colab_link": true
    },
    "kernelspec": {
      "name": "python3",
      "display_name": "Python 3"
    },
    "language_info": {
      "name": "python"
    }
  },
  "cells": [
    {
      "cell_type": "markdown",
      "metadata": {
        "id": "view-in-github",
        "colab_type": "text"
      },
      "source": [
        "<a href=\"https://colab.research.google.com/github/rahulku91058/Training-AIML/blob/main/SentimentAnalysis/SentimentAnalysis.ipynb\" target=\"_parent\"><img src=\"https://colab.research.google.com/assets/colab-badge.svg\" alt=\"Open In Colab\"/></a>"
      ]
    },
    {
      "cell_type": "markdown",
      "source": [
        "# **Import important libraries**"
      ],
      "metadata": {
        "id": "QUJIeuzmzRvU"
      }
    },
    {
      "cell_type": "code",
      "source": [
        "!git clone https://github.com/rahulku91058/Training-AIML.git\n",
        "%cd Training-AIML/SentimentAnalysis/"
      ],
      "metadata": {
        "id": "aBZUUzc8zcls",
        "outputId": "5ca68a2b-0747-4bd1-9c94-50ed17c02521",
        "colab": {
          "base_uri": "https://localhost:8080/"
        }
      },
      "execution_count": 7,
      "outputs": [
        {
          "output_type": "stream",
          "name": "stdout",
          "text": [
            "Cloning into 'Training-AIML'...\n",
            "remote: Enumerating objects: 153, done.\u001b[K\n",
            "remote: Counting objects: 100% (153/153), done.\u001b[K\n",
            "remote: Compressing objects: 100% (133/133), done.\u001b[K\n",
            "remote: Total 153 (delta 55), reused 87 (delta 17), pack-reused 0 (from 0)\u001b[K\n",
            "Receiving objects: 100% (153/153), 40.29 MiB | 22.59 MiB/s, done.\n",
            "Resolving deltas: 100% (55/55), done.\n",
            "/content/Training-AIML/SentimentAnalysis/Training-AIML/SentimentAnalysis\n"
          ]
        }
      ]
    },
    {
      "cell_type": "code",
      "source": [
        "import tensorflow as tf\n",
        "from tensorflow.keras.datasets import imdb\n",
        "from tensorflow.keras.preprocessing.sequence import pad_sequences\n",
        "from tensorflow.keras.models import Sequential\n",
        "from tensorflow.keras.layers import Embedding, SimpleRNN, Dense"
      ],
      "metadata": {
        "id": "_1SzB1uLy83y"
      },
      "execution_count": 8,
      "outputs": []
    },
    {
      "cell_type": "markdown",
      "source": [
        "# **Load IMDB Dataset**"
      ],
      "metadata": {
        "id": "AKOXWRte0AIL"
      }
    },
    {
      "cell_type": "code",
      "source": [
        "vocab_size = 10000   #Only consider the top 10,000 words\n",
        "max_length = 500     #Maximum length of each sequence\n",
        "(X_train, y_train), (X_test, y_test) = imdb.load_data(num_words=vocab_size)"
      ],
      "metadata": {
        "id": "tWdhUrZ9zHkx"
      },
      "execution_count": 12,
      "outputs": []
    },
    {
      "cell_type": "markdown",
      "source": [
        "# **Preprocess Date: Pad sequence to make them all the same length** Scaling"
      ],
      "metadata": {
        "id": "relfth0l0iO-"
      }
    },
    {
      "cell_type": "code",
      "source": [
        "x_train = pad_sequences(X_train, maxlen=max_length)\n",
        "x_test = pad_sequences(X_test, maxlen=max_length)"
      ],
      "metadata": {
        "id": "AbNMmtgrzug6"
      },
      "execution_count": 10,
      "outputs": []
    },
    {
      "cell_type": "markdown",
      "source": [
        "# **Define the model**"
      ],
      "metadata": {
        "id": "BlK0ukZK00g_"
      }
    },
    {
      "cell_type": "code",
      "source": [
        "model = Sequential([\n",
        "    Embedding(input_dim=vocab_size, output_dim=32, input_length=max_length),  #Embedding Layer\n",
        "    SimpleRNN(units=32, return_sequences=False),   #RNN Layer\n",
        "    Dense(1, activation='sigmoid') # Output Layer\n",
        "])\n"
      ],
      "metadata": {
        "id": "PgZPeTKi0yrN",
        "outputId": "bac9cd2b-bdf6-4969-b71e-6be03ccadfd1",
        "colab": {
          "base_uri": "https://localhost:8080/"
        }
      },
      "execution_count": 13,
      "outputs": [
        {
          "output_type": "stream",
          "name": "stderr",
          "text": [
            "/usr/local/lib/python3.10/dist-packages/keras/src/layers/core/embedding.py:90: UserWarning: Argument `input_length` is deprecated. Just remove it.\n",
            "  warnings.warn(\n"
          ]
        }
      ]
    },
    {
      "cell_type": "markdown",
      "source": [
        "# **Compile the model**"
      ],
      "metadata": {
        "id": "DM0MucB_3Pzr"
      }
    },
    {
      "cell_type": "code",
      "source": [
        "model.compile(optimizer='adam', loss='binary_crossentropy', metrics=['accuracy'])"
      ],
      "metadata": {
        "id": "buxz251A1ulN"
      },
      "execution_count": 14,
      "outputs": []
    },
    {
      "cell_type": "markdown",
      "source": [
        "# **Train the model**"
      ],
      "metadata": {
        "id": "43MSffR23etu"
      }
    },
    {
      "cell_type": "code",
      "source": [
        "print(\"Training the model...\")\n",
        "model.fit(x_train, y_train, epochs=3, batch_size=64, validation_data=(x_test, y_test))"
      ],
      "metadata": {
        "id": "xR06DwcT3Tkb",
        "outputId": "c04f2945-6e76-4e99-9bd8-989c3378dc3c",
        "colab": {
          "base_uri": "https://localhost:8080/"
        }
      },
      "execution_count": 15,
      "outputs": [
        {
          "output_type": "stream",
          "name": "stdout",
          "text": [
            "Training the model...\n",
            "Epoch 1/3\n",
            "\u001b[1m391/391\u001b[0m \u001b[32m━━━━━━━━━━━━━━━━━━━━\u001b[0m\u001b[37m\u001b[0m \u001b[1m56s\u001b[0m 140ms/step - accuracy: 0.5991 - loss: 0.6381 - val_accuracy: 0.8221 - val_loss: 0.4174\n",
            "Epoch 2/3\n",
            "\u001b[1m391/391\u001b[0m \u001b[32m━━━━━━━━━━━━━━━━━━━━\u001b[0m\u001b[37m\u001b[0m \u001b[1m82s\u001b[0m 139ms/step - accuracy: 0.8286 - loss: 0.3943 - val_accuracy: 0.8348 - val_loss: 0.3885\n",
            "Epoch 3/3\n",
            "\u001b[1m391/391\u001b[0m \u001b[32m━━━━━━━━━━━━━━━━━━━━\u001b[0m\u001b[37m\u001b[0m \u001b[1m82s\u001b[0m 140ms/step - accuracy: 0.9030 - loss: 0.2557 - val_accuracy: 0.8506 - val_loss: 0.4005\n"
          ]
        },
        {
          "output_type": "execute_result",
          "data": {
            "text/plain": [
              "<keras.src.callbacks.history.History at 0x7f6d401ca290>"
            ]
          },
          "metadata": {},
          "execution_count": 15
        }
      ]
    },
    {
      "cell_type": "markdown",
      "source": [
        "# **Evaluate the model**"
      ],
      "metadata": {
        "id": "IexYoEbs3kCx"
      }
    },
    {
      "cell_type": "code",
      "source": [
        "loss, accuracy = model.evaluate(x_test, y_test)\n",
        "print(f\"Test Loss: {loss}, Test Accuracy: {accuracy}\")"
      ],
      "metadata": {
        "id": "7XTkGyPT3hTL"
      },
      "execution_count": null,
      "outputs": []
    }
  ]
}