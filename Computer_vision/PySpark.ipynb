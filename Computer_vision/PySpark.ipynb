{
  "nbformat": 4,
  "nbformat_minor": 0,
  "metadata": {
    "colab": {
      "provenance": [],
      "authorship_tag": "ABX9TyN6QJezXFwcR1p4SMRT6mDT",
      "include_colab_link": true
    },
    "kernelspec": {
      "name": "python3",
      "display_name": "Python 3"
    },
    "language_info": {
      "name": "python"
    }
  },
  "cells": [
    {
      "cell_type": "markdown",
      "metadata": {
        "id": "view-in-github",
        "colab_type": "text"
      },
      "source": [
        "<a href=\"https://colab.research.google.com/github/rahulku91058/Training-AIML/blob/main/Computer_vision/PySpark.ipynb\" target=\"_parent\"><img src=\"https://colab.research.google.com/assets/colab-badge.svg\" alt=\"Open In Colab\"/></a>"
      ]
    },
    {
      "cell_type": "code",
      "execution_count": 1,
      "metadata": {
        "id": "zxk7oMQcM8JL"
      },
      "outputs": [],
      "source": [
        "# Install PySpark\n",
        "# !pip install pyspark"
      ]
    },
    {
      "cell_type": "code",
      "source": [
        "# Import Libraries\n",
        "from pyspark.sql import SparkSession\n",
        "from pyspark.sql.functions import col, isnan, when, count"
      ],
      "metadata": {
        "id": "OrCYwSSfNBGt"
      },
      "execution_count": 2,
      "outputs": []
    },
    {
      "cell_type": "code",
      "source": [
        "# Create Spark Session\n",
        "spark = SparkSession.builder.appName(\"TitanicDataAnalysis\").getOrCreate()"
      ],
      "metadata": {
        "id": "8kOXDgONNDH4"
      },
      "execution_count": null,
      "outputs": []
    },
    {
      "cell_type": "code",
      "source": [
        "# Load Dataset (Replace with your file path or upload to Colab)\n",
        "from google.colab import files\n",
        "files.upload()  # Upload 'titanic.csv'\n",
        "df = spark.read.csv(\"titanic.csv\", header=True, inferSchema=True)"
      ],
      "metadata": {
        "id": "D22zZPcZNEof"
      },
      "execution_count": null,
      "outputs": []
    },
    {
      "cell_type": "code",
      "source": [
        "# Basic Data Exploration\n",
        "print(\"Schema:\")\n",
        "df.printSchema()\n",
        "print(f\"Total Rows: {df.count()}\")\n",
        "df.show(5)"
      ],
      "metadata": {
        "id": "RHyKvB5fNGLJ"
      },
      "execution_count": null,
      "outputs": []
    },
    {
      "cell_type": "code",
      "source": [
        "# Count Missing Data\n",
        "print(\"Missing Data:\")\n",
        "df.select([count(when(isnan(c) | col(c).isNull(), c)).alias(c) for c in df.columns]).show()"
      ],
      "metadata": {
        "id": "CfSTJTpBNHiK"
      },
      "execution_count": null,
      "outputs": []
    },
    {
      "cell_type": "code",
      "source": [
        "# Data Cleaning\n",
        "df = df.na.fill({\"Age\": 30, \"Embarked\": \"S\"}).withColumn(\"Age\", col(\"Age\").cast(\"float\")).withColumn(\"Fare\", col(\"Fare\").cast(\"float\"))"
      ],
      "metadata": {
        "id": "nYMhYU7iNIor"
      },
      "execution_count": null,
      "outputs": []
    },
    {
      "cell_type": "code",
      "source": [
        "# Analysis: Survival Rate\n",
        "print(\"Survival Rate:\")\n",
        "df.groupBy(\"Survived\").count().show()"
      ],
      "metadata": {
        "id": "UT4IhzeCNJwB"
      },
      "execution_count": null,
      "outputs": []
    },
    {
      "cell_type": "code",
      "source": [
        "# Survival Rate by Gender\n",
        "print(\"Survival Rate by Gender:\")\n",
        "df.groupBy(\"Sex\", \"Survived\").count().show()"
      ],
      "metadata": {
        "id": "9p_D6UBuNLHo"
      },
      "execution_count": null,
      "outputs": []
    },
    {
      "cell_type": "code",
      "source": [
        "# Average Fare by Passenger Class\n",
        "print(\"Average Fare by Pclass:\")\n",
        "df.groupBy(\"Pclass\").avg(\"Fare\").show()"
      ],
      "metadata": {
        "id": "PX4TJ8uvNMOt"
      },
      "execution_count": null,
      "outputs": []
    },
    {
      "cell_type": "code",
      "source": [
        "# Correlation Between Age and Fare\n",
        "print(f\"Correlation between Age and Fare: {df.stat.corr('Age', 'Fare')}\")"
      ],
      "metadata": {
        "id": "hmTaWeFwNNXU"
      },
      "execution_count": null,
      "outputs": []
    },
    {
      "cell_type": "code",
      "source": [
        "# Top 5 Most Expensive Tickets\n",
        "print(\"Top 5 Most Expensive Tickets:\")\n",
        "df.orderBy(col(\"Fare\").desc()).show(5)"
      ],
      "metadata": {
        "id": "rxtcq3_DNOVK"
      },
      "execution_count": null,
      "outputs": []
    },
    {
      "cell_type": "code",
      "source": [
        "# Save Processed Data\n",
        "df.write.csv(\"processed_titanic_data.csv\", header=True)\n",
        "print(\"Processed data saved!\")"
      ],
      "metadata": {
        "id": "1ZCYiPnsNPXO"
      },
      "execution_count": null,
      "outputs": []
    }
  ]
}