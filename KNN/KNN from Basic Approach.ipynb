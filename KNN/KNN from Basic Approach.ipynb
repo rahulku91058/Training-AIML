{
 "cells": [
  {
   "cell_type": "code",
   "execution_count": 2,
   "id": "9608838b",
   "metadata": {},
   "outputs": [],
   "source": [
    "# Import the needed packages\n",
    "import numpy as np  # numerical processing\n",
    "import pandas as pd # dataframes"
   ]
  },
  {
   "cell_type": "code",
   "execution_count": 3,
   "id": "58b7df97",
   "metadata": {},
   "outputs": [],
   "source": [
    "train_data = pd.read_csv(\"trainMatrixModified.txt\",sep='\\t', header=None)\n",
    "test_data = pd.read_csv(\"testMatrixModified.txt\",sep='\\t', header=None)\n",
    "train_class = pd.read_csv(\"trainClasses.txt\",sep='\\t', header=None)\n",
    "test_class = pd.read_csv(\"testClasses.txt\",sep='\\t', header=None)"
   ]
  },
  {
   "cell_type": "code",
   "execution_count": 4,
   "id": "5085c5bb",
   "metadata": {},
   "outputs": [
    {
     "data": {
      "text/plain": [
       "(800, 5500)"
      ]
     },
     "execution_count": 4,
     "metadata": {},
     "output_type": "execute_result"
    }
   ],
   "source": [
    "X_train=train_data.T\n",
    "X_test=test_data.T\n",
    "X_train.shape"
   ]
  },
  {
   "cell_type": "code",
   "execution_count": 5,
   "id": "452a4340",
   "metadata": {},
   "outputs": [
    {
     "data": {
      "text/plain": [
       "(800,)"
      ]
     },
     "execution_count": 5,
     "metadata": {},
     "output_type": "execute_result"
    }
   ],
   "source": [
    "y_train=train_class[1]\n",
    "y_test=test_class[1]\n",
    "y_train.shape"
   ]
  },
  {
   "cell_type": "code",
   "execution_count": 7,
   "id": "5d41ddb4",
   "metadata": {},
   "outputs": [
    {
     "data": {
      "text/plain": [
       "0      0\n",
       "1      1\n",
       "2      0\n",
       "3      1\n",
       "4      0\n",
       "      ..\n",
       "795    0\n",
       "796    1\n",
       "797    1\n",
       "798    1\n",
       "799    1\n",
       "Name: 1, Length: 800, dtype: int64"
      ]
     },
     "execution_count": 7,
     "metadata": {},
     "output_type": "execute_result"
    }
   ],
   "source": [
    "y_train"
   ]
  },
  {
   "cell_type": "code",
   "execution_count": 8,
   "id": "ee113cf3",
   "metadata": {},
   "outputs": [
    {
     "data": {
      "text/plain": [
       "0      1\n",
       "1      0\n",
       "2      0\n",
       "3      1\n",
       "4      1\n",
       "      ..\n",
       "195    1\n",
       "196    1\n",
       "197    0\n",
       "198    1\n",
       "199    1\n",
       "Name: 1, Length: 200, dtype: int64"
      ]
     },
     "execution_count": 8,
     "metadata": {},
     "output_type": "execute_result"
    }
   ],
   "source": [
    "y_test"
   ]
  },
  {
   "cell_type": "code",
   "execution_count": 9,
   "id": "b1fbcdbd",
   "metadata": {},
   "outputs": [],
   "source": [
    "class KNN:\n",
    "    def __init__(self, k=3):\n",
    "        self.k = k\n",
    "    \n",
    "    def fit(self, X, y):\n",
    "        self.X_train = X\n",
    "        self.y_train = y\n",
    "    \n",
    "    def predict(self, X_test):\n",
    "        # get predictions for every row in test data\n",
    "        y_pred = [self._get_single_prediction(X_test.iloc[i]) for i in range(X_test.shape[0])]\n",
    "        return np.array(y_pred)\n",
    "\n",
    "    def _get_single_prediction(self, x_test_row):\n",
    "        # get distances of test_row vs all training rows\n",
    "        distances = [self._get_euclidean_distance(x_test_row, self.X_train.iloc[j]) \n",
    "                     for j in range(self.X_train.shape[0])]\n",
    "        # get indices of k-nearest neighbors -> k-smallest distances\n",
    "        k_idx = np.argsort(distances)[:self.k]\n",
    "        \n",
    "        # get corresponding y-labels of training data\n",
    "        k_labels = [self.y_train[idx] for idx in k_idx]\n",
    "        # return most common label\n",
    "        return np.argmax(np.bincount(k_labels))\n",
    "\n",
    "    def _get_euclidean_distance(self, x1, x2):\n",
    "        # calculate euclidean distance for a row pair\n",
    "        sum_squared_distance = np.sum((x1 - x2)**2)\n",
    "        return np.sqrt(sum_squared_distance)"
   ]
  },
  {
   "cell_type": "code",
   "execution_count": 10,
   "id": "e17ade58",
   "metadata": {},
   "outputs": [],
   "source": [
    "from sklearn.metrics import classification_report,confusion_matrix, accuracy_score\n",
    "def accuracy(y_true, y_pred):\n",
    "    accuracy = np.sum(y_true == y_pred) / len(y_true)\n",
    "    return accuracy"
   ]
  },
  {
   "cell_type": "code",
   "execution_count": 11,
   "id": "20a869e4",
   "metadata": {},
   "outputs": [
    {
     "name": "stdout",
     "output_type": "stream",
     "text": [
      "Accuracy: 0.81\n",
      "Confusion Matrix on training data:\n",
      " [[79 20]\n",
      " [18 83]]\n"
     ]
    }
   ],
   "source": [
    "k = 3\n",
    "clf = KNN(k=k)\n",
    "clf.fit(X_train, y_train)\n",
    "predictions = clf.predict(X_test)\n",
    "\n",
    "score = accuracy(y_test, predictions)\n",
    "    \n",
    "# print the accuracy\n",
    "print(f\"Accuracy: {score}\")\n",
    "print(\"Confusion Matrix on training data:\\n\", confusion_matrix(y_test, predictions))"
   ]
  },
  {
   "cell_type": "code",
   "execution_count": 12,
   "id": "1e9dbd13",
   "metadata": {},
   "outputs": [
    {
     "name": "stdout",
     "output_type": "stream",
     "text": [
      "Accuracy: 0.8\n",
      "[[85 14]\n",
      " [26 75]]\n"
     ]
    }
   ],
   "source": [
    "from sklearn.model_selection import train_test_split\n",
    "from sklearn.neighbors import KNeighborsClassifier\n",
    "knn = KNeighborsClassifier(n_neighbors=3)\n",
    "\n",
    "knn.fit(X_train,y_train)\n",
    "X_test = np.ascontiguousarray(X_test)\n",
    "pred = knn.predict(X_test)\n",
    "\n",
    "score = accuracy(y_test, pred)\n",
    "print(f\"Accuracy: {score}\")\n",
    "print(confusion_matrix(y_test,pred))"
   ]
  },
  {
   "cell_type": "code",
   "execution_count": null,
   "id": "70abee9d",
   "metadata": {},
   "outputs": [],
   "source": []
  }
 ],
 "metadata": {
  "kernelspec": {
   "display_name": "Python 3 (ipykernel)",
   "language": "python",
   "name": "python3"
  },
  "language_info": {
   "codemirror_mode": {
    "name": "ipython",
    "version": 3
   },
   "file_extension": ".py",
   "mimetype": "text/x-python",
   "name": "python",
   "nbconvert_exporter": "python",
   "pygments_lexer": "ipython3",
   "version": "3.11.4"
  }
 },
 "nbformat": 4,
 "nbformat_minor": 5
}
