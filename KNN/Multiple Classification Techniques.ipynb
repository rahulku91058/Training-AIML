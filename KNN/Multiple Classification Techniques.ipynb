{
 "cells": [
  {
   "cell_type": "code",
   "execution_count": 1,
   "id": "9608838b",
   "metadata": {},
   "outputs": [],
   "source": [
    "from sklearn.metrics import classification_report,confusion_matrix, accuracy_score\n",
    "import numpy as np  # numerical processing\n",
    "import pandas as pd # dataframes\n",
    "\n",
    "train_data = pd.read_csv(\"trainMatrixModified.txt\",sep='\\t', header=None)\n",
    "test_data = pd.read_csv(\"testMatrixModified.txt\",sep='\\t', header=None)\n",
    "train_class = pd.read_csv(\"trainClasses.txt\",sep='\\t', header=None)\n",
    "test_class = pd.read_csv(\"testClasses.txt\",sep='\\t', header=None)\n",
    "\n",
    "X_train=train_data.T\n",
    "X_test=test_data.T\n",
    "y_train=train_class[1]\n",
    "y_test=test_class[1]"
   ]
  },
  {
   "cell_type": "code",
   "execution_count": 2,
   "id": "d3f17b33",
   "metadata": {},
   "outputs": [
    {
     "name": "stdout",
     "output_type": "stream",
     "text": [
      "01: Logistic Regression Classifiers from Scikit-learn\n",
      "01: Classification Report on training data:\n",
      "               precision    recall  f1-score   support\n",
      "\n",
      "           0       0.96      1.00      0.98        99\n",
      "           1       1.00      0.96      0.98       101\n",
      "\n",
      "    accuracy                           0.98       200\n",
      "   macro avg       0.98      0.98      0.98       200\n",
      "weighted avg       0.98      0.98      0.98       200\n",
      "\n",
      "01: Mean accuracy on training data:\n",
      " 0.98\n",
      "01: Confusion Matrix on training data:\n",
      " [[99  0]\n",
      " [ 4 97]]\n"
     ]
    }
   ],
   "source": [
    "print(\"01: Logistic Regression Classifiers from Scikit-learn\")\n",
    "from sklearn.linear_model import LogisticRegression\n",
    "#Create the machine learning classifier object\n",
    "clf = LogisticRegression() \n",
    "clf.fit(X_train, y_train)\n",
    "#predict labels for all the sentences\n",
    "pred_y = clf.predict(X_test) #predicting based on X\n",
    "#print(\"Predicted labels:\", pred_y)\n",
    "#Calculate accuracy, confusion_matrix and classification_report on our training data\n",
    "print(\"01: Classification Report on training data:\\n\", classification_report(y_test, pred_y))\n",
    "print(\"01: Mean accuracy on training data:\\n\", accuracy_score(y_test, pred_y))\n",
    "print(\"01: Confusion Matrix on training data:\\n\", confusion_matrix(y_test, pred_y))"
   ]
  },
  {
   "cell_type": "code",
   "execution_count": 3,
   "id": "d180d4db",
   "metadata": {},
   "outputs": [
    {
     "name": "stdout",
     "output_type": "stream",
     "text": [
      "02: Support Vector Classifiers from Scikit-learn\n",
      "02: Classification Report on training data:\n",
      "               precision    recall  f1-score   support\n",
      "\n",
      "           0       0.82      1.00      0.90        99\n",
      "           1       1.00      0.78      0.88       101\n",
      "\n",
      "    accuracy                           0.89       200\n",
      "   macro avg       0.91      0.89      0.89       200\n",
      "weighted avg       0.91      0.89      0.89       200\n",
      "\n",
      "02: Mean accuracy on training data:\n",
      " 0.89\n",
      "02: Confusion Matrix on training data:\n",
      " [[99  0]\n",
      " [22 79]]\n"
     ]
    }
   ],
   "source": [
    "print(\"02: Support Vector Classifiers from Scikit-learn\")\n",
    "from sklearn.svm import SVC\n",
    "#Create the machine learning classifier object\n",
    "clf = SVC()\n",
    "clf.fit(X_train, y_train)\n",
    "#predict labels for all the sentences\n",
    "pred_y = clf.predict(X_test) #predicting based on X\n",
    "#print(\"Predicted labels:\", pred_y)\n",
    "#Calculate accuracy, confusion_matrix and classification_report on our training data\n",
    "print(\"02: Classification Report on training data:\\n\", classification_report(y_test, pred_y))\n",
    "print(\"02: Mean accuracy on training data:\\n\", accuracy_score(y_test, pred_y))\n",
    "print(\"02: Confusion Matrix on training data:\\n\", confusion_matrix(y_test, pred_y))"
   ]
  },
  {
   "cell_type": "code",
   "execution_count": 4,
   "id": "8d7a01d5",
   "metadata": {},
   "outputs": [
    {
     "name": "stdout",
     "output_type": "stream",
     "text": [
      "03: Decision Tree Classifiers from Scikit-learn\n",
      "03: Classification Report on training data:\n",
      "               precision    recall  f1-score   support\n",
      "\n",
      "           0       0.85      0.95      0.90        99\n",
      "           1       0.94      0.84      0.89       101\n",
      "\n",
      "    accuracy                           0.90       200\n",
      "   macro avg       0.90      0.90      0.89       200\n",
      "weighted avg       0.90      0.90      0.89       200\n",
      "\n",
      "03: Mean accuracy on training data:\n",
      " 0.895\n",
      "03: Confusion Matrix on training data:\n",
      " [[94  5]\n",
      " [16 85]]\n"
     ]
    }
   ],
   "source": [
    "print(\"03: Decision Tree Classifiers from Scikit-learn\")\n",
    "from sklearn.tree import DecisionTreeClassifier\n",
    "#Create the machine learning classifier object\n",
    "clf = DecisionTreeClassifier()\n",
    "clf.fit(X_train, y_train)\n",
    "#predict labels for all the sentences\n",
    "pred_y = clf.predict(X_test) #predicting based on X\n",
    "#print(\"Predicted labels:\", pred_y)\n",
    "#Calculate accuracy, confusion_matrix and classification_report on our training data\n",
    "print(\"03: Classification Report on training data:\\n\", classification_report(y_test, pred_y))\n",
    "print(\"03: Mean accuracy on training data:\\n\", accuracy_score(y_test, pred_y))\n",
    "print(\"03: Confusion Matrix on training data:\\n\", confusion_matrix(y_test, pred_y))"
   ]
  },
  {
   "cell_type": "code",
   "execution_count": 5,
   "id": "917b9b88",
   "metadata": {},
   "outputs": [
    {
     "name": "stdout",
     "output_type": "stream",
     "text": [
      "04: KNN classifiers from Scikit-learn\n",
      "04: Classification Report on training data:\n",
      "               precision    recall  f1-score   support\n",
      "\n",
      "           0       0.77      0.86      0.81        99\n",
      "           1       0.84      0.74      0.79       101\n",
      "\n",
      "    accuracy                           0.80       200\n",
      "   macro avg       0.80      0.80      0.80       200\n",
      "weighted avg       0.80      0.80      0.80       200\n",
      "\n",
      "04: Mean accuracy on training data:\n",
      " 0.8\n",
      "04: Confusion Matrix on training data:\n",
      " [[85 14]\n",
      " [26 75]]\n"
     ]
    }
   ],
   "source": [
    "print(\"04: KNN classifiers from Scikit-learn\")\n",
    "from sklearn.neighbors import KNeighborsClassifier\n",
    "#Create the machine learning classifier object\n",
    "clf = KNeighborsClassifier(n_neighbors=3) \n",
    "clf.fit(X_train, y_train)\n",
    "X_test = np.ascontiguousarray(X_test)\n",
    "#predict labels for all the sentences\n",
    "pred_y = clf.predict(X_test) #predicting based on X\n",
    "#print(\"Predicted labels:\", pred_y)\n",
    "#Calculate accuracy, confusion_matrix and classification_report on our training data\n",
    "print(\"04: Classification Report on training data:\\n\", classification_report(y_test, pred_y))\n",
    "print(\"04: Mean accuracy on training data:\\n\", accuracy_score(y_test, pred_y))\n",
    "print(\"04: Confusion Matrix on training data:\\n\", confusion_matrix(y_test, pred_y))"
   ]
  },
  {
   "cell_type": "code",
   "execution_count": 6,
   "id": "80481aa2",
   "metadata": {},
   "outputs": [
    {
     "name": "stdout",
     "output_type": "stream",
     "text": [
      "05: Nearest Centroid (1st case) from Scikit-learn\n",
      "05: Classification Report on training data:\n",
      "               precision    recall  f1-score   support\n",
      "\n",
      "           0       1.00      0.88      0.94        99\n",
      "           1       0.89      1.00      0.94       101\n",
      "\n",
      "    accuracy                           0.94       200\n",
      "   macro avg       0.95      0.94      0.94       200\n",
      "weighted avg       0.95      0.94      0.94       200\n",
      "\n",
      "05: Mean accuracy on training data:\n",
      " 0.94\n",
      "05: Confusion Matrix on training data:\n",
      " [[ 87  12]\n",
      " [  0 101]]\n"
     ]
    }
   ],
   "source": [
    "print(\"05: Nearest Centroid (1st case) from Scikit-learn\")\n",
    "from sklearn.neighbors import NearestCentroid\n",
    "#Create the machine learning classifier object\n",
    "clf = NearestCentroid(shrink_threshold=None)\n",
    "clf.fit(X_train, y_train)\n",
    "#predict labels for all the sentences\n",
    "pred_y = clf.predict(X_test) #predicting based on X\n",
    "#print(\"Predicted labels:\", pred_y)\n",
    "#Calculate accuracy, confusion_matrix and classification_report on our training data\n",
    "print(\"05: Classification Report on training data:\\n\", classification_report(y_test, pred_y))\n",
    "print(\"05: Mean accuracy on training data:\\n\", accuracy_score(y_test, pred_y))\n",
    "print(\"05: Confusion Matrix on training data:\\n\", confusion_matrix(y_test, pred_y))"
   ]
  },
  {
   "cell_type": "code",
   "execution_count": 7,
   "id": "5df2ea21",
   "metadata": {},
   "outputs": [
    {
     "name": "stdout",
     "output_type": "stream",
     "text": [
      "06: Nearest Centroid (2nd case) from Scikit-learn\n",
      "06: Classification Report on training data:\n",
      "               precision    recall  f1-score   support\n",
      "\n",
      "           0       1.00      0.91      0.95        99\n",
      "           1       0.92      1.00      0.96       101\n",
      "\n",
      "    accuracy                           0.95       200\n",
      "   macro avg       0.96      0.95      0.95       200\n",
      "weighted avg       0.96      0.95      0.95       200\n",
      "\n",
      "06: Mean accuracy on training data:\n",
      " 0.955\n",
      "06: Confusion Matrix on training data:\n",
      " [[ 90   9]\n",
      " [  0 101]]\n"
     ]
    }
   ],
   "source": [
    "print(\"06: Nearest Centroid (2nd case) from Scikit-learn\")\n",
    "from sklearn.neighbors import NearestCentroid\n",
    "#Create the machine learning classifier object\n",
    "clf = NearestCentroid(shrink_threshold=0.2)\n",
    "clf.fit(X_train, y_train)\n",
    "#predict labels for all the sentences\n",
    "pred_y = clf.predict(X_test) #predicting based on X\n",
    "#print(\"Predicted labels:\", pred_y)\n",
    "#Calculate accuracy, confusion_matrix and classification_report on our training data\n",
    "print(\"06: Classification Report on training data:\\n\", classification_report(y_test, pred_y))\n",
    "print(\"06: Mean accuracy on training data:\\n\", accuracy_score(y_test, pred_y))\n",
    "print(\"06: Confusion Matrix on training data:\\n\", confusion_matrix(y_test, pred_y))"
   ]
  },
  {
   "cell_type": "code",
   "execution_count": null,
   "id": "8d521a3a",
   "metadata": {},
   "outputs": [],
   "source": []
  }
 ],
 "metadata": {
  "kernelspec": {
   "display_name": "Python 3 (ipykernel)",
   "language": "python",
   "name": "python3"
  },
  "language_info": {
   "codemirror_mode": {
    "name": "ipython",
    "version": 3
   },
   "file_extension": ".py",
   "mimetype": "text/x-python",
   "name": "python",
   "nbconvert_exporter": "python",
   "pygments_lexer": "ipython3",
   "version": "3.11.4"
  }
 },
 "nbformat": 4,
 "nbformat_minor": 5
}
