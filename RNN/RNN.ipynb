{
  "nbformat": 4,
  "nbformat_minor": 0,
  "metadata": {
    "colab": {
      "provenance": [],
      "authorship_tag": "ABX9TyMN+SPIuAsDnDZugoF3MOmY",
      "include_colab_link": true
    },
    "kernelspec": {
      "name": "python3",
      "display_name": "Python 3"
    },
    "language_info": {
      "name": "python"
    }
  },
  "cells": [
    {
      "cell_type": "markdown",
      "metadata": {
        "id": "view-in-github",
        "colab_type": "text"
      },
      "source": [
        "<a href=\"https://colab.research.google.com/github/rahulku91058/Training-AIML/blob/main/RNN/RNN.ipynb\" target=\"_parent\"><img src=\"https://colab.research.google.com/assets/colab-badge.svg\" alt=\"Open In Colab\"/></a>"
      ]
    },
    {
      "cell_type": "code",
      "execution_count": 2,
      "metadata": {
        "colab": {
          "base_uri": "https://localhost:8080/"
        },
        "id": "VNucKKyzwUhB",
        "outputId": "04e67c46-453d-493c-bec9-da586742293b"
      },
      "outputs": [
        {
          "output_type": "stream",
          "name": "stdout",
          "text": [
            "Cloning into 'Training-AIML'...\n",
            "remote: Enumerating objects: 177, done.\u001b[K\n",
            "remote: Counting objects: 100% (177/177), done.\u001b[K\n",
            "remote: Compressing objects: 100% (156/156), done.\u001b[K\n",
            "remote: Total 177 (delta 67), reused 86 (delta 17), pack-reused 0 (from 0)\u001b[K\n",
            "Receiving objects: 100% (177/177), 40.30 MiB | 18.91 MiB/s, done.\n",
            "Resolving deltas: 100% (67/67), done.\n",
            "/content/Training-AIML/RNN\n"
          ]
        }
      ],
      "source": [
        "!git clone https://github.com/rahulku91058/Training-AIML.git\n",
        "%cd Training-AIML/RNN"
      ]
    },
    {
      "cell_type": "code",
      "source": [
        "from tensorflow.keras.layers import SimpleRNN, Embedding, Dense\n",
        "from tensorflow.keras.preprocessing.text import Tokenizer\n",
        "from tensorflow.keras.preprocessing.sequence import pad_sequences\n"
      ],
      "metadata": {
        "id": "hSmwuzGbwr5b"
      },
      "execution_count": 3,
      "outputs": []
    },
    {
      "cell_type": "code",
      "source": [
        "print(dir(Tokenizer))"
      ],
      "metadata": {
        "colab": {
          "base_uri": "https://localhost:8080/"
        },
        "id": "T0HsIJAixRmP",
        "outputId": "fd875dcb-a4d5-4e14-d440-44c20049fdb5"
      },
      "execution_count": 4,
      "outputs": [
        {
          "output_type": "stream",
          "name": "stdout",
          "text": [
            "['__class__', '__delattr__', '__dict__', '__dir__', '__doc__', '__eq__', '__format__', '__ge__', '__getattribute__', '__gt__', '__hash__', '__init__', '__init_subclass__', '__le__', '__lt__', '__module__', '__ne__', '__new__', '__reduce__', '__reduce_ex__', '__repr__', '__setattr__', '__sizeof__', '__str__', '__subclasshook__', '__weakref__', '_api_export_path', '_api_export_symbol_id', 'fit_on_sequences', 'fit_on_texts', 'get_config', 'sequences_to_matrix', 'sequences_to_texts', 'sequences_to_texts_generator', 'texts_to_matrix', 'texts_to_sequences', 'texts_to_sequences_generator', 'to_json']\n"
          ]
        }
      ]
    },
    {
      "cell_type": "code",
      "source": [
        "from tensorflow.keras.models import Sequential\n",
        "import tensorflow as tf\n",
        "# Sample text data\n",
        "data=[\"I love programing\",\n",
        "      \"Programming is fun\",\n",
        "      \"Deep learning is powerful\",\n",
        "      \"I love deep learning\",\n",
        "      \"Machine learning is fascinating\",\n",
        "      \"Artificial intelligence is the future\",\n",
        "      \"Programming challenges are exciting\",\n",
        "      \"I enjoy solving coding problems\",\n",
        "      \"Neural networks are amazing\",\n",
        "      \"I am passionate about AI\",\n",
        "      \"Deep learning models are complex\",\n",
        "      \"Data science requires patience\",\n",
        "      \"Coding is like solving puzzles\",\n",
        "      \"AI will shape the world\",\n",
        "      \"Algorithms are the heart of programming\",\n",
        "      \"Debugging is a skill\",\n",
        "      \"Programming languages are tools\",\n",
        "      \"I love creating innovative solutions\"]\n",
        "\n",
        "# Tokenize and sequence data\n",
        "tokenizer = Tokenizer()\n",
        "tokenizer.fit_on_texts(data)\n",
        "sequences = tokenizer.texts_to_sequences(data)\n",
        "print(sequences)"
      ],
      "metadata": {
        "colab": {
          "base_uri": "https://localhost:8080/"
        },
        "id": "RMFtnD0Yxs0w",
        "outputId": "226f7ed1-4a7b-46e7-a200-ae7239a8ee5d"
      },
      "execution_count": 28,
      "outputs": [
        {
          "output_type": "stream",
          "name": "stdout",
          "text": [
            "[[2, 6, 12], [4, 1, 13], [7, 5, 1, 14], [2, 6, 7, 5], [15, 5, 1, 16], [17, 18, 1, 8, 19], [4, 20, 3, 21], [2, 22, 9, 10, 23], [24, 25, 3, 26], [2, 27, 28, 29, 11], [7, 5, 30, 3, 31], [32, 33, 34, 35], [10, 1, 36, 9, 37], [11, 38, 39, 8, 40], [41, 3, 8, 42, 43, 4], [44, 1, 45, 46], [4, 47, 3, 48], [2, 6, 49, 50, 51]]\n"
          ]
        }
      ]
    },
    {
      "cell_type": "code",
      "source": [
        "# Prepare input and output for RNN\n",
        "vocab_size = len(tokenizer.word_index) + 1\n",
        "input_sequences = []\n",
        "for sequence in sequences:\n",
        "    for i in range(1, len(sequence)):\n",
        "        input_sequences.append(sequence[:i+1])"
      ],
      "metadata": {
        "id": "63FpU5B-1IQ8"
      },
      "execution_count": 29,
      "outputs": []
    },
    {
      "cell_type": "code",
      "source": [
        "# Pad sequential\n",
        "max_length = max([len(seq) for seq in input_sequences])\n",
        "input_sequences = pad_sequences(input_sequences, maxlen=max_length, padding='pre')\n",
        "#print(input_sequences)"
      ],
      "metadata": {
        "id": "t1Lpjb2G2Nm6"
      },
      "execution_count": 30,
      "outputs": []
    },
    {
      "cell_type": "code",
      "source": [
        "# Split input x and target (y)\n",
        "X = input_sequences[:,:-1]\n",
        "y = input_sequences[:,-1]\n",
        "X,y"
      ],
      "metadata": {
        "colab": {
          "base_uri": "https://localhost:8080/"
        },
        "id": "d3aFkD2l2OiG",
        "outputId": "41a121fc-e97c-4704-eae6-67c737997c5e"
      },
      "execution_count": 31,
      "outputs": [
        {
          "output_type": "execute_result",
          "data": {
            "text/plain": [
              "(array([[ 0,  0,  0,  0,  2],\n",
              "        [ 0,  0,  0,  2,  6],\n",
              "        [ 0,  0,  0,  0,  4],\n",
              "        [ 0,  0,  0,  4,  1],\n",
              "        [ 0,  0,  0,  0,  7],\n",
              "        [ 0,  0,  0,  7,  5],\n",
              "        [ 0,  0,  7,  5,  1],\n",
              "        [ 0,  0,  0,  0,  2],\n",
              "        [ 0,  0,  0,  2,  6],\n",
              "        [ 0,  0,  2,  6,  7],\n",
              "        [ 0,  0,  0,  0, 15],\n",
              "        [ 0,  0,  0, 15,  5],\n",
              "        [ 0,  0, 15,  5,  1],\n",
              "        [ 0,  0,  0,  0, 17],\n",
              "        [ 0,  0,  0, 17, 18],\n",
              "        [ 0,  0, 17, 18,  1],\n",
              "        [ 0, 17, 18,  1,  8],\n",
              "        [ 0,  0,  0,  0,  4],\n",
              "        [ 0,  0,  0,  4, 20],\n",
              "        [ 0,  0,  4, 20,  3],\n",
              "        [ 0,  0,  0,  0,  2],\n",
              "        [ 0,  0,  0,  2, 22],\n",
              "        [ 0,  0,  2, 22,  9],\n",
              "        [ 0,  2, 22,  9, 10],\n",
              "        [ 0,  0,  0,  0, 24],\n",
              "        [ 0,  0,  0, 24, 25],\n",
              "        [ 0,  0, 24, 25,  3],\n",
              "        [ 0,  0,  0,  0,  2],\n",
              "        [ 0,  0,  0,  2, 27],\n",
              "        [ 0,  0,  2, 27, 28],\n",
              "        [ 0,  2, 27, 28, 29],\n",
              "        [ 0,  0,  0,  0,  7],\n",
              "        [ 0,  0,  0,  7,  5],\n",
              "        [ 0,  0,  7,  5, 30],\n",
              "        [ 0,  7,  5, 30,  3],\n",
              "        [ 0,  0,  0,  0, 32],\n",
              "        [ 0,  0,  0, 32, 33],\n",
              "        [ 0,  0, 32, 33, 34],\n",
              "        [ 0,  0,  0,  0, 10],\n",
              "        [ 0,  0,  0, 10,  1],\n",
              "        [ 0,  0, 10,  1, 36],\n",
              "        [ 0, 10,  1, 36,  9],\n",
              "        [ 0,  0,  0,  0, 11],\n",
              "        [ 0,  0,  0, 11, 38],\n",
              "        [ 0,  0, 11, 38, 39],\n",
              "        [ 0, 11, 38, 39,  8],\n",
              "        [ 0,  0,  0,  0, 41],\n",
              "        [ 0,  0,  0, 41,  3],\n",
              "        [ 0,  0, 41,  3,  8],\n",
              "        [ 0, 41,  3,  8, 42],\n",
              "        [41,  3,  8, 42, 43],\n",
              "        [ 0,  0,  0,  0, 44],\n",
              "        [ 0,  0,  0, 44,  1],\n",
              "        [ 0,  0, 44,  1, 45],\n",
              "        [ 0,  0,  0,  0,  4],\n",
              "        [ 0,  0,  0,  4, 47],\n",
              "        [ 0,  0,  4, 47,  3],\n",
              "        [ 0,  0,  0,  0,  2],\n",
              "        [ 0,  0,  0,  2,  6],\n",
              "        [ 0,  0,  2,  6, 49],\n",
              "        [ 0,  2,  6, 49, 50]], dtype=int32),\n",
              " array([ 6, 12,  1, 13,  5,  1, 14,  6,  7,  5,  5,  1, 16, 18,  1,  8, 19,\n",
              "        20,  3, 21, 22,  9, 10, 23, 25,  3, 26, 27, 28, 29, 11,  5, 30,  3,\n",
              "        31, 33, 34, 35,  1, 36,  9, 37, 38, 39,  8, 40,  3,  8, 42, 43,  4,\n",
              "         1, 45, 46, 47,  3, 48,  6, 49, 50, 51], dtype=int32))"
            ]
          },
          "metadata": {},
          "execution_count": 31
        }
      ]
    },
    {
      "cell_type": "code",
      "source": [
        "# Build RNN model\n",
        "model = Sequential([\n",
        "    Embedding(vocab_size, 10, input_length=max_length-1),\n",
        "    SimpleRNN(50, activation='tanh'),\n",
        "    Dense(vocab_size, activation='softmax')\n",
        "])\n"
      ],
      "metadata": {
        "colab": {
          "base_uri": "https://localhost:8080/"
        },
        "id": "rEZLldpK3N6O",
        "outputId": "8d44f43c-35a7-446d-f7ce-82148e771ff2"
      },
      "execution_count": 32,
      "outputs": [
        {
          "output_type": "stream",
          "name": "stderr",
          "text": [
            "/usr/local/lib/python3.10/dist-packages/keras/src/layers/core/embedding.py:90: UserWarning: Argument `input_length` is deprecated. Just remove it.\n",
            "  warnings.warn(\n"
          ]
        }
      ]
    },
    {
      "cell_type": "code",
      "source": [
        "# Compile the model\n",
        "model.compile(optimizer='adam', loss='sparse_categorical_crossentropy', metrics=['accuracy'])"
      ],
      "metadata": {
        "id": "X-oZeq813OWB"
      },
      "execution_count": 33,
      "outputs": []
    },
    {
      "cell_type": "code",
      "source": [
        "# train the model\n",
        "model.fit(X, y, epochs=50, verbose=1)"
      ],
      "metadata": {
        "colab": {
          "base_uri": "https://localhost:8080/"
        },
        "id": "h1-bRjV6356D",
        "outputId": "230e6e5e-23cb-4c01-e728-c9115d92e450"
      },
      "execution_count": 37,
      "outputs": [
        {
          "output_type": "stream",
          "name": "stdout",
          "text": [
            "Epoch 1/50\n",
            "\u001b[1m2/2\u001b[0m \u001b[32m━━━━━━━━━━━━━━━━━━━━\u001b[0m\u001b[37m\u001b[0m \u001b[1m0s\u001b[0m 16ms/step - accuracy: 0.6455 - loss: 1.6198\n",
            "Epoch 2/50\n",
            "\u001b[1m2/2\u001b[0m \u001b[32m━━━━━━━━━━━━━━━━━━━━\u001b[0m\u001b[37m\u001b[0m \u001b[1m0s\u001b[0m 9ms/step - accuracy: 0.6559 - loss: 1.5909  \n",
            "Epoch 3/50\n",
            "\u001b[1m2/2\u001b[0m \u001b[32m━━━━━━━━━━━━━━━━━━━━\u001b[0m\u001b[37m\u001b[0m \u001b[1m0s\u001b[0m 9ms/step - accuracy: 0.6559 - loss: 1.5703 \n",
            "Epoch 4/50\n",
            "\u001b[1m2/2\u001b[0m \u001b[32m━━━━━━━━━━━━━━━━━━━━\u001b[0m\u001b[37m\u001b[0m \u001b[1m0s\u001b[0m 10ms/step - accuracy: 0.6872 - loss: 1.4623\n",
            "Epoch 5/50\n",
            "\u001b[1m2/2\u001b[0m \u001b[32m━━━━━━━━━━━━━━━━━━━━\u001b[0m\u001b[37m\u001b[0m \u001b[1m0s\u001b[0m 10ms/step - accuracy: 0.6351 - loss: 1.5529\n",
            "Epoch 6/50\n",
            "\u001b[1m2/2\u001b[0m \u001b[32m━━━━━━━━━━━━━━━━━━━━\u001b[0m\u001b[37m\u001b[0m \u001b[1m0s\u001b[0m 9ms/step - accuracy: 0.6767 - loss: 1.4655 \n",
            "Epoch 7/50\n",
            "\u001b[1m2/2\u001b[0m \u001b[32m━━━━━━━━━━━━━━━━━━━━\u001b[0m\u001b[37m\u001b[0m \u001b[1m0s\u001b[0m 9ms/step - accuracy: 0.6455 - loss: 1.4894 \n",
            "Epoch 8/50\n",
            "\u001b[1m2/2\u001b[0m \u001b[32m━━━━━━━━━━━━━━━━━━━━\u001b[0m\u001b[37m\u001b[0m \u001b[1m0s\u001b[0m 9ms/step - accuracy: 0.6981 - loss: 1.3993 \n",
            "Epoch 9/50\n",
            "\u001b[1m2/2\u001b[0m \u001b[32m━━━━━━━━━━━━━━━━━━━━\u001b[0m\u001b[37m\u001b[0m \u001b[1m0s\u001b[0m 10ms/step - accuracy: 0.6668 - loss: 1.4112\n",
            "Epoch 10/50\n",
            "\u001b[1m2/2\u001b[0m \u001b[32m━━━━━━━━━━━━━━━━━━━━\u001b[0m\u001b[37m\u001b[0m \u001b[1m0s\u001b[0m 10ms/step - accuracy: 0.6668 - loss: 1.4187\n",
            "Epoch 11/50\n",
            "\u001b[1m2/2\u001b[0m \u001b[32m━━━━━━━━━━━━━━━━━━━━\u001b[0m\u001b[37m\u001b[0m \u001b[1m0s\u001b[0m 13ms/step - accuracy: 0.6773 - loss: 1.4026\n",
            "Epoch 12/50\n",
            "\u001b[1m2/2\u001b[0m \u001b[32m━━━━━━━━━━━━━━━━━━━━\u001b[0m\u001b[37m\u001b[0m \u001b[1m0s\u001b[0m 11ms/step - accuracy: 0.7194 - loss: 1.3398\n",
            "Epoch 13/50\n",
            "\u001b[1m2/2\u001b[0m \u001b[32m━━━━━━━━━━━━━━━━━━━━\u001b[0m\u001b[37m\u001b[0m \u001b[1m0s\u001b[0m 13ms/step - accuracy: 0.7199 - loss: 1.3486\n",
            "Epoch 14/50\n",
            "\u001b[1m2/2\u001b[0m \u001b[32m━━━━━━━━━━━━━━━━━━━━\u001b[0m\u001b[37m\u001b[0m \u001b[1m0s\u001b[0m 17ms/step - accuracy: 0.6991 - loss: 1.3662\n",
            "Epoch 15/50\n",
            "\u001b[1m2/2\u001b[0m \u001b[32m━━━━━━━━━━━━━━━━━━━━\u001b[0m\u001b[37m\u001b[0m \u001b[1m0s\u001b[0m 10ms/step - accuracy: 0.7616 - loss: 1.2371\n",
            "Epoch 16/50\n",
            "\u001b[1m2/2\u001b[0m \u001b[32m━━━━━━━━━━━━━━━━━━━━\u001b[0m\u001b[37m\u001b[0m \u001b[1m0s\u001b[0m 9ms/step - accuracy: 0.7095 - loss: 1.3358 \n",
            "Epoch 17/50\n",
            "\u001b[1m2/2\u001b[0m \u001b[32m━━━━━━━━━━━━━━━━━━━━\u001b[0m\u001b[37m\u001b[0m \u001b[1m0s\u001b[0m 15ms/step - accuracy: 0.6991 - loss: 1.3359\n",
            "Epoch 18/50\n",
            "\u001b[1m2/2\u001b[0m \u001b[32m━━━━━━━━━━━━━━━━━━━━\u001b[0m\u001b[37m\u001b[0m \u001b[1m0s\u001b[0m 12ms/step - accuracy: 0.7205 - loss: 1.2684\n",
            "Epoch 19/50\n",
            "\u001b[1m2/2\u001b[0m \u001b[32m━━━━━━━━━━━━━━━━━━━━\u001b[0m\u001b[37m\u001b[0m \u001b[1m0s\u001b[0m 9ms/step - accuracy: 0.7418 - loss: 1.2706 \n",
            "Epoch 20/50\n",
            "\u001b[1m2/2\u001b[0m \u001b[32m━━━━━━━━━━━━━━━━━━━━\u001b[0m\u001b[37m\u001b[0m \u001b[1m0s\u001b[0m 9ms/step - accuracy: 0.7106 - loss: 1.2631 \n",
            "Epoch 21/50\n",
            "\u001b[1m2/2\u001b[0m \u001b[32m━━━━━━━━━━━━━━━━━━━━\u001b[0m\u001b[37m\u001b[0m \u001b[1m0s\u001b[0m 9ms/step - accuracy: 0.7210 - loss: 1.2851 \n",
            "Epoch 22/50\n",
            "\u001b[1m2/2\u001b[0m \u001b[32m━━━━━━━━━━━━━━━━━━━━\u001b[0m\u001b[37m\u001b[0m \u001b[1m0s\u001b[0m 11ms/step - accuracy: 0.7522 - loss: 1.1857\n",
            "Epoch 23/50\n",
            "\u001b[1m2/2\u001b[0m \u001b[32m━━━━━━━━━━━━━━━━━━━━\u001b[0m\u001b[37m\u001b[0m \u001b[1m0s\u001b[0m 10ms/step - accuracy: 0.7210 - loss: 1.2253\n",
            "Epoch 24/50\n",
            "\u001b[1m2/2\u001b[0m \u001b[32m━━━━━━━━━━━━━━━━━━━━\u001b[0m\u001b[37m\u001b[0m \u001b[1m0s\u001b[0m 9ms/step - accuracy: 0.7626 - loss: 1.1334 \n",
            "Epoch 25/50\n",
            "\u001b[1m2/2\u001b[0m \u001b[32m━━━━━━━━━━━━━━━━━━━━\u001b[0m\u001b[37m\u001b[0m \u001b[1m0s\u001b[0m 11ms/step - accuracy: 0.7522 - loss: 1.1385\n",
            "Epoch 26/50\n",
            "\u001b[1m2/2\u001b[0m \u001b[32m━━━━━━━━━━━━━━━━━━━━\u001b[0m\u001b[37m\u001b[0m \u001b[1m0s\u001b[0m 10ms/step - accuracy: 0.7210 - loss: 1.1785\n",
            "Epoch 27/50\n",
            "\u001b[1m2/2\u001b[0m \u001b[32m━━━━━━━━━━━━━━━━━━━━\u001b[0m\u001b[37m\u001b[0m \u001b[1m0s\u001b[0m 13ms/step - accuracy: 0.7210 - loss: 1.1977\n",
            "Epoch 28/50\n",
            "\u001b[1m2/2\u001b[0m \u001b[32m━━━━━━━━━━━━━━━━━━━━\u001b[0m\u001b[37m\u001b[0m \u001b[1m0s\u001b[0m 12ms/step - accuracy: 0.7210 - loss: 1.1240\n",
            "Epoch 29/50\n",
            "\u001b[1m2/2\u001b[0m \u001b[32m━━━━━━━━━━━━━━━━━━━━\u001b[0m\u001b[37m\u001b[0m \u001b[1m0s\u001b[0m 12ms/step - accuracy: 0.7626 - loss: 1.0531\n",
            "Epoch 30/50\n",
            "\u001b[1m2/2\u001b[0m \u001b[32m━━━━━━━━━━━━━━━━━━━━\u001b[0m\u001b[37m\u001b[0m \u001b[1m0s\u001b[0m 13ms/step - accuracy: 0.7418 - loss: 1.1028\n",
            "Epoch 31/50\n",
            "\u001b[1m2/2\u001b[0m \u001b[32m━━━━━━━━━━━━━━━━━━━━\u001b[0m\u001b[37m\u001b[0m \u001b[1m0s\u001b[0m 13ms/step - accuracy: 0.7106 - loss: 1.1176\n",
            "Epoch 32/50\n",
            "\u001b[1m2/2\u001b[0m \u001b[32m━━━━━━━━━━━━━━━━━━━━\u001b[0m\u001b[37m\u001b[0m \u001b[1m0s\u001b[0m 17ms/step - accuracy: 0.7522 - loss: 1.0567\n",
            "Epoch 33/50\n",
            "\u001b[1m2/2\u001b[0m \u001b[32m━━━━━━━━━━━━━━━━━━━━\u001b[0m\u001b[37m\u001b[0m \u001b[1m0s\u001b[0m 14ms/step - accuracy: 0.7314 - loss: 1.0580\n",
            "Epoch 34/50\n",
            "\u001b[1m2/2\u001b[0m \u001b[32m━━━━━━━━━━━━━━━━━━━━\u001b[0m\u001b[37m\u001b[0m \u001b[1m0s\u001b[0m 10ms/step - accuracy: 0.7522 - loss: 1.0255\n",
            "Epoch 35/50\n",
            "\u001b[1m2/2\u001b[0m \u001b[32m━━━━━━━━━━━━━━━━━━━━\u001b[0m\u001b[37m\u001b[0m \u001b[1m0s\u001b[0m 13ms/step - accuracy: 0.7522 - loss: 1.0206\n",
            "Epoch 36/50\n",
            "\u001b[1m2/2\u001b[0m \u001b[32m━━━━━━━━━━━━━━━━━━━━\u001b[0m\u001b[37m\u001b[0m \u001b[1m0s\u001b[0m 10ms/step - accuracy: 0.7522 - loss: 1.0057\n",
            "Epoch 37/50\n",
            "\u001b[1m2/2\u001b[0m \u001b[32m━━━━━━━━━━━━━━━━━━━━\u001b[0m\u001b[37m\u001b[0m \u001b[1m0s\u001b[0m 9ms/step - accuracy: 0.7741 - loss: 1.0159 \n",
            "Epoch 38/50\n",
            "\u001b[1m2/2\u001b[0m \u001b[32m━━━━━━━━━━━━━━━━━━━━\u001b[0m\u001b[37m\u001b[0m \u001b[1m0s\u001b[0m 10ms/step - accuracy: 0.7741 - loss: 0.9896\n",
            "Epoch 39/50\n",
            "\u001b[1m2/2\u001b[0m \u001b[32m━━━━━━━━━━━━━━━━━━━━\u001b[0m\u001b[37m\u001b[0m \u001b[1m0s\u001b[0m 10ms/step - accuracy: 0.7324 - loss: 1.0346\n",
            "Epoch 40/50\n",
            "\u001b[1m2/2\u001b[0m \u001b[32m━━━━━━━━━━━━━━━━━━━━\u001b[0m\u001b[37m\u001b[0m \u001b[1m0s\u001b[0m 10ms/step - accuracy: 0.7741 - loss: 0.9720\n",
            "Epoch 41/50\n",
            "\u001b[1m2/2\u001b[0m \u001b[32m━━━━━━━━━━━━━━━━━━━━\u001b[0m\u001b[37m\u001b[0m \u001b[1m0s\u001b[0m 12ms/step - accuracy: 0.7954 - loss: 0.9874\n",
            "Epoch 42/50\n",
            "\u001b[1m2/2\u001b[0m \u001b[32m━━━━━━━━━━━━━━━━━━━━\u001b[0m\u001b[37m\u001b[0m \u001b[1m0s\u001b[0m 10ms/step - accuracy: 0.8058 - loss: 0.9285\n",
            "Epoch 43/50\n",
            "\u001b[1m2/2\u001b[0m \u001b[32m━━━━━━━━━━━━━━━━━━━━\u001b[0m\u001b[37m\u001b[0m \u001b[1m0s\u001b[0m 15ms/step - accuracy: 0.7850 - loss: 0.9285\n",
            "Epoch 44/50\n",
            "\u001b[1m2/2\u001b[0m \u001b[32m━━━━━━━━━━━━━━━━━━━━\u001b[0m\u001b[37m\u001b[0m \u001b[1m0s\u001b[0m 11ms/step - accuracy: 0.7850 - loss: 0.9564\n",
            "Epoch 45/50\n",
            "\u001b[1m2/2\u001b[0m \u001b[32m━━━━━━━━━━━━━━━━━━━━\u001b[0m\u001b[37m\u001b[0m \u001b[1m0s\u001b[0m 11ms/step - accuracy: 0.7746 - loss: 0.9675\n",
            "Epoch 46/50\n",
            "\u001b[1m2/2\u001b[0m \u001b[32m━━━━━━━━━━━━━━━━━━━━\u001b[0m\u001b[37m\u001b[0m \u001b[1m0s\u001b[0m 10ms/step - accuracy: 0.7954 - loss: 0.8837\n",
            "Epoch 47/50\n",
            "\u001b[1m2/2\u001b[0m \u001b[32m━━━━━━━━━━━━━━━━━━━━\u001b[0m\u001b[37m\u001b[0m \u001b[1m0s\u001b[0m 12ms/step - accuracy: 0.7746 - loss: 0.8834\n",
            "Epoch 48/50\n",
            "\u001b[1m2/2\u001b[0m \u001b[32m━━━━━━━━━━━━━━━━━━━━\u001b[0m\u001b[37m\u001b[0m \u001b[1m0s\u001b[0m 12ms/step - accuracy: 0.7746 - loss: 0.9115\n",
            "Epoch 49/50\n",
            "\u001b[1m2/2\u001b[0m \u001b[32m━━━━━━━━━━━━━━━━━━━━\u001b[0m\u001b[37m\u001b[0m \u001b[1m0s\u001b[0m 12ms/step - accuracy: 0.7642 - loss: 0.9254\n",
            "Epoch 50/50\n",
            "\u001b[1m2/2\u001b[0m \u001b[32m━━━━━━━━━━━━━━━━━━━━\u001b[0m\u001b[37m\u001b[0m \u001b[1m0s\u001b[0m 10ms/step - accuracy: 0.7954 - loss: 0.8703\n"
          ]
        },
        {
          "output_type": "execute_result",
          "data": {
            "text/plain": [
              "<keras.src.callbacks.history.History at 0x7a3a6d62c790>"
            ]
          },
          "metadata": {},
          "execution_count": 37
        }
      ]
    },
    {
      "cell_type": "code",
      "source": [
        "# Test the model\n",
        "input_text = \"I love deep\"\n",
        "tokenized_input = tokenizer.texts_to_sequences([input_text])[0]\n",
        "tokenized_input = pad_sequences([tokenized_input], maxlen=max_length-1, padding='pre')"
      ],
      "metadata": {
        "id": "HXeh82Wl39Bo"
      },
      "execution_count": 38,
      "outputs": []
    },
    {
      "cell_type": "code",
      "source": [
        "# Predict\n",
        "predicted_word = model.predict(tokenized_input)\n",
        "predicted_word_index = tf.argmax(predicted_word, axis=-1).numpy()[0]\n",
        "print(\"Predicted Next Word:\",tokenizer.index_word[predicted_word_index])"
      ],
      "metadata": {
        "colab": {
          "base_uri": "https://localhost:8080/"
        },
        "id": "shVHmWXO4IBK",
        "outputId": "b87a58c7-ba6a-48df-b1ba-00cc72a9e7c1"
      },
      "execution_count": 40,
      "outputs": [
        {
          "output_type": "stream",
          "name": "stdout",
          "text": [
            "\u001b[1m1/1\u001b[0m \u001b[32m━━━━━━━━━━━━━━━━━━━━\u001b[0m\u001b[37m\u001b[0m \u001b[1m0s\u001b[0m 53ms/step\n",
            "Predicted Next Word: learning\n"
          ]
        }
      ]
    },
    {
      "cell_type": "code",
      "source": [
        "print(f\"Input Text: {input_text}\")"
      ],
      "metadata": {
        "colab": {
          "base_uri": "https://localhost:8080/"
        },
        "id": "ShNJghCf53Xa",
        "outputId": "3766e337-626b-4590-9d13-a443254bd3ea"
      },
      "execution_count": 43,
      "outputs": [
        {
          "output_type": "stream",
          "name": "stdout",
          "text": [
            "Input Text: I love deep\n"
          ]
        }
      ]
    },
    {
      "cell_type": "code",
      "source": [],
      "metadata": {
        "id": "JJTLDEy09kAR"
      },
      "execution_count": null,
      "outputs": []
    }
  ]
}